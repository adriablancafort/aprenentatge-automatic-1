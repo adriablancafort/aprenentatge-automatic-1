# Modified function - polynomial with added noise
def feval(x):
    return 3*x**3 - 2*x**2 + 0.5  # Cubic polynomial

def fgen(N, sigma):
    # Non-uniform sampling - concentrate more points near x=0
    x = np.sort(np.random.beta(2, 5, N))
    
    # Uniform noise instead of gaussian
    noise = np.random.uniform(-sigma, sigma, N)
    t = feval(x) + noise
    return x,t

# Different dataset sizes
N = 50  # More training examples
N_valid = 500  # Fewer validation examples
sigma = 0.5  # Increased noise level

# Generate training data
x,t = fgen(N, sigma)
sample = pd.DataFrame({'input':x,'target':t})

# Generate validation data 
x_valid, t_valid = fgen(N_valid, sigma)
valid_sample = pd.DataFrame({'input':x_valid,'target':t_valid})

# Plot training data
fig, ax = plt.subplots(figsize=(8,6))
ax.plot(sample.input, sample.target, 'o')
ax.plot(np.linspace(0, 1, num=30), feval(np.linspace(0, 1,num=30)), alpha=0.2)
plt.title('Training Data with Non-Uniform Sampling')

# ...rest of existing code for polynomial fitting...
